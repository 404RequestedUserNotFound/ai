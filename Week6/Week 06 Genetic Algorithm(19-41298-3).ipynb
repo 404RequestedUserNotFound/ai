{
 "cells": [
  {
   "cell_type": "markdown",
   "metadata": {},
   "source": [
    "### Problem: Maximize f(x) = x^3-11x^2+150 when x = 0 to 255"
   ]
  },
  {
   "cell_type": "markdown",
   "metadata": {},
   "source": [
    "Representation or ecoding solution:\n",
    "x can be represented using 8 bits binary number."
   ]
  },
  {
   "cell_type": "markdown",
   "metadata": {},
   "source": [
    "# Step 1: Initialize Population"
   ]
  },
  {
   "cell_type": "code",
   "execution_count": 1,
   "metadata": {
    "_cell_guid": "b1076dfc-b9ad-4769-8c92-a6c4dae69d19",
    "_uuid": "8f2839f25d086af736a60e9eeb907d3b93b6e0e5"
   },
   "outputs": [],
   "source": [
    "import random\n",
    "def initPopulation(b, n = 10): # n is the number of solutions, b is the length\n",
    "    p = [] # to store solution set/ initial population\n",
    "    for i in range(n):\n",
    "        s = [] # to store a solution as a list\n",
    "        for j in range(b):\n",
    "            s.append(random.choice([0,1]))    \n",
    "        p.append(s)\n",
    "    return p"
   ]
  },
  {
   "cell_type": "code",
   "execution_count": 2,
   "metadata": {},
   "outputs": [
    {
     "data": {
      "text/plain": [
       "[[1, 0, 0, 0, 0, 1, 0, 1],\n",
       " [1, 0, 0, 0, 0, 0, 0, 1],\n",
       " [0, 1, 1, 0, 0, 1, 1, 0],\n",
       " [1, 0, 0, 0, 0, 1, 1, 1],\n",
       " [0, 0, 1, 0, 0, 0, 1, 1],\n",
       " [1, 0, 0, 0, 0, 1, 0, 1],\n",
       " [1, 0, 0, 1, 0, 0, 1, 1],\n",
       " [0, 0, 0, 1, 0, 0, 1, 1],\n",
       " [0, 0, 0, 0, 0, 0, 1, 1],\n",
       " [1, 0, 0, 1, 0, 0, 1, 1],\n",
       " [0, 1, 1, 1, 1, 0, 0, 1],\n",
       " [1, 0, 0, 1, 0, 0, 0, 0],\n",
       " [1, 1, 1, 1, 0, 1, 1, 0],\n",
       " [1, 1, 0, 0, 0, 0, 1, 1],\n",
       " [1, 1, 1, 1, 0, 0, 1, 0],\n",
       " [1, 0, 1, 0, 0, 0, 0, 1],\n",
       " [0, 1, 0, 0, 1, 1, 0, 1],\n",
       " [0, 1, 1, 1, 0, 0, 0, 1],\n",
       " [0, 0, 1, 0, 1, 0, 0, 0],\n",
       " [1, 0, 0, 0, 1, 0, 1, 0],\n",
       " [1, 0, 0, 0, 0, 0, 1, 1],\n",
       " [0, 1, 0, 1, 1, 0, 0, 0],\n",
       " [0, 1, 1, 1, 0, 1, 0, 0],\n",
       " [1, 1, 0, 1, 1, 1, 0, 1],\n",
       " [1, 0, 0, 0, 1, 0, 1, 0]]"
      ]
     },
     "execution_count": 2,
     "metadata": {},
     "output_type": "execute_result"
    }
   ],
   "source": [
    "population = initPopulation(8, 25)\n",
    "population"
   ]
  },
  {
   "cell_type": "markdown",
   "metadata": {},
   "source": [
    "# Step 2: Reproduction or Parent Selection"
   ]
  },
  {
   "cell_type": "markdown",
   "metadata": {},
   "source": [
    "Fitness Calculation"
   ]
  },
  {
   "cell_type": "code",
   "execution_count": 3,
   "metadata": {},
   "outputs": [
    {
     "data": {
      "text/plain": [
       "[4, 3, 2, 1, 0]"
      ]
     },
     "execution_count": 3,
     "metadata": {},
     "output_type": "execute_result"
    }
   ],
   "source": [
    "[i for i in range(4,-1,-1)]"
   ]
  },
  {
   "cell_type": "code",
   "execution_count": 4,
   "metadata": {},
   "outputs": [],
   "source": [
    "def getFitness(p): # p is the whole population\n",
    "    f = [] # to store fitness values\n",
    "    for sol in p:\n",
    "        d = 0 # decimel value\n",
    "        b = len(sol)\n",
    "        for i in range(b-1,-1,-1): # binary to decimel\n",
    "            d = d + sol[i]*2**(b-1-i)\n",
    "        #print(d)\n",
    "        f.append(d**3 - 11*d**2 + 150) # fitness function\n",
    "    return f"
   ]
  },
  {
   "cell_type": "code",
   "execution_count": 5,
   "metadata": {},
   "outputs": [
    {
     "data": {
      "text/plain": [
       "[2158208,\n",
       " 1963788,\n",
       " 946914,\n",
       " 2260050,\n",
       " 29550,\n",
       " 2158208,\n",
       " 2938974,\n",
       " 3038,\n",
       " 78,\n",
       " 2938974,\n",
       " 1610660,\n",
       " 2758038,\n",
       " 14221410,\n",
       " 6996750,\n",
       " 13528434,\n",
       " 3888300,\n",
       " 391464,\n",
       " 1302588,\n",
       " 46550,\n",
       " 2418738,\n",
       " 2059470,\n",
       " 596438,\n",
       " 1413030,\n",
       " 10256760,\n",
       " 2418738]"
      ]
     },
     "execution_count": 5,
     "metadata": {},
     "output_type": "execute_result"
    }
   ],
   "source": [
    "fitness = getFitness(population)\n",
    "fitness"
   ]
  },
  {
   "cell_type": "markdown",
   "metadata": {},
   "source": [
    "calculate probability and select parents"
   ]
  },
  {
   "cell_type": "code",
   "execution_count": 6,
   "metadata": {},
   "outputs": [],
   "source": [
    "def select_parent(n, pop): # probability, parent selection\n",
    "    # probability\n",
    "    fitness = getFitness(pop)\n",
    "    total_fitness = sum(fitness)\n",
    "    prob = [round(f/total_fitness,3) for f in fitness]\n",
    "    # parent selection\n",
    "    parents = []\n",
    "    for i in range(n):\n",
    "        # roullete wheel, generate a random number\n",
    "        r = random.choice(range(1,1001,1))/1000\n",
    "        #print(r)\n",
    "        lim = 0\n",
    "        # check bin number of r\n",
    "        for j in range(len(prob)):\n",
    "            lim = lim + prob[j]\n",
    "            if r <= lim :#checking the bin\n",
    "                print(j)\n",
    "                parents.append(pop[j])\n",
    "                break\n",
    "    return parents"
   ]
  },
  {
   "cell_type": "code",
   "execution_count": 7,
   "metadata": {},
   "outputs": [
    {
     "name": "stdout",
     "output_type": "stream",
     "text": [
      "3\n",
      "14\n",
      "20\n",
      "23\n",
      "12\n",
      "6\n",
      "14\n",
      "23\n"
     ]
    },
    {
     "data": {
      "text/plain": [
       "[[1, 0, 0, 0, 0, 1, 1, 1],\n",
       " [1, 1, 1, 1, 0, 0, 1, 0],\n",
       " [1, 0, 0, 0, 0, 0, 1, 1],\n",
       " [1, 1, 0, 1, 1, 1, 0, 1],\n",
       " [1, 1, 1, 1, 0, 1, 1, 0],\n",
       " [1, 0, 0, 1, 0, 0, 1, 1],\n",
       " [1, 1, 1, 1, 0, 0, 1, 0],\n",
       " [1, 1, 0, 1, 1, 1, 0, 1]]"
      ]
     },
     "execution_count": 7,
     "metadata": {},
     "output_type": "execute_result"
    }
   ],
   "source": [
    "parents = select_parent(8, population)\n",
    "parents"
   ]
  },
  {
   "cell_type": "markdown",
   "metadata": {},
   "source": [
    "# Step 3: Crossover"
   ]
  },
  {
   "cell_type": "code",
   "execution_count": 9,
   "metadata": {},
   "outputs": [
    {
     "name": "stdout",
     "output_type": "stream",
     "text": [
      "4.0\n",
      "First parent: 01110001\n",
      "Second parent: 11100001\n",
      "First Offspring: 01100001\n",
      "Second Offspring: 11110001\n"
     ]
    }
   ],
   "source": [
    "# define a method crossover (input is parents set)\n",
    "num_cross = len(parents)/2\n",
    "print(num_cross)\n",
    "\n",
    "# for loop to perform crossovers\n",
    "cp = random.choice(range(1,8))\n",
    "\n",
    "def Crossover(parent_1,parent_2,cp):\n",
    "    x,z = list(parent_1),list(parent_2) \n",
    "    for i in range(cp,len(x)):\n",
    "        x[i],z[i] = z[i],x[i]       \n",
    "    x,z = ''.join(x),''.join(z)     \n",
    "    return x,z\n",
    "\n",
    "# perform crossover\n",
    "parent_1 = '01110001'        \n",
    "parent_2 = '11100001'\n",
    "print('First parent:',parent_1)\n",
    "print('Second parent:',parent_2)\n",
    "\n",
    "# return the offsprings\n",
    "offspring1,offspring2 = Crossover(parent_1,parent_2,cp)\n",
    "print('First Offspring:',offspring1)     \n",
    "print('Second Offspring:',offspring2)\n"
   ]
  },
  {
   "cell_type": "markdown",
   "metadata": {},
   "source": [
    "# Step 4: Select Survivor\n",
    "The selected survivors (solutions) will be added to population"
   ]
  },
  {
   "cell_type": "markdown",
   "metadata": {},
   "source": [
    "Select top 2 offspring based on fitness value and add them to population."
   ]
  },
  {
   "cell_type": "markdown",
   "metadata": {},
   "source": [
    "Repeat Step 2 to 4 for further iterations"
   ]
  },
  {
   "cell_type": "code",
   "execution_count": 29,
   "metadata": {},
   "outputs": [],
   "source": [
    "# define a method to select top offsprings (input offsprings, top)\n"
   ]
  },
  {
   "cell_type": "code",
   "execution_count": null,
   "metadata": {},
   "outputs": [],
   "source": []
  },
  {
   "cell_type": "code",
   "execution_count": null,
   "metadata": {},
   "outputs": [],
   "source": []
  }
 ],
 "metadata": {
  "kernelspec": {
   "display_name": "Python 3",
   "language": "python",
   "name": "python3"
  },
  "language_info": {
   "codemirror_mode": {
    "name": "ipython",
    "version": 3
   },
   "file_extension": ".py",
   "mimetype": "text/x-python",
   "name": "python",
   "nbconvert_exporter": "python",
   "pygments_lexer": "ipython3",
   "version": "3.8.8"
  }
 },
 "nbformat": 4,
 "nbformat_minor": 4
}
