{
 "cells": [
  {
   "cell_type": "markdown",
   "metadata": {},
   "source": [
    "# Table driven agent"
   ]
  },
  {
   "cell_type": "markdown",
   "metadata": {},
   "source": [
    "AUTOMATIC CAR BREAKING Agent with locations A and B"
   ]
  },
  {
   "cell_type": "code",
   "execution_count": 10,
   "metadata": {},
   "outputs": [
    {
     "name": "stdout",
     "output_type": "stream",
     "text": [
      "Perception Received: ('B', 'find_obstacle')\n",
      "Action Performed: auto_brake_activated\n",
      "Get Perception (yes/no): yes\n",
      "Perception Received: ('B', 'do_not_find_obstacle')\n",
      "Action Performed: search_for_obstacle\n",
      "Get Perception (yes/no): yes\n",
      "Perception Received: ('A', 'find_obstacle')\n",
      "Action Performed: auto_brake_activated\n",
      "Get Perception (yes/no): yes\n",
      "Perception Received: ('A', 'do_not_find_obstacle')\n",
      "Action Performed: search_for_obstacle_again\n",
      "Get Perception (yes/no): yes\n",
      "Perception Received: ('B', 'do_not_find_obstacle')\n",
      "Action Performed: search_for_obstacle\n",
      "Get Perception (yes/no): yes\n",
      "Perception Received: ('A', 'find_obstacle')\n",
      "Action Performed: auto_brake_activated\n",
      "Get Perception (yes/no): no\n"
     ]
    }
   ],
   "source": [
    "# how many sensors? Ans: 2 (Location and, Condition)\n",
    "# Location -> A or B\n",
    "# Condition -> fine_obstacle or do_not_find_obstacle\n",
    "# how many different perecept sequences? Ans: 4 (A,do_not_find_obstacle) (A,fine_obstacle) \n",
    "# ... (B,do_not_find_obstacle) (B,fine_obstacle)\n",
    "# how many actions and what are the actions? 3 (search_for_obstacle_again, search_for_obstacle, and auto_brake_activated)\n",
    "# AGENT FUNCTION: map the percept sequences to actions\n",
    "\n",
    "table={('A','do_not_find_obstacle'):'search_for_obstacle_again',\n",
    "       ('A','find_obstacle'):'auto_brake_activated',\n",
    "       ('B','do_not_find_obstacle'):'search_for_obstacle',\n",
    "       ('B','find_obstacle'):'auto_brake_activated'}\n",
    "\n",
    "percepts=[]  # to store percet sequence  \n",
    "def table_driven_agent(percept):\n",
    "    print('Perception Received: '+ str(percept))\n",
    "    percepts.append(percept) # updating percept history\n",
    "    action = lookup(percept,table) # searching for action\n",
    "    return action\n",
    "\n",
    "def lookup(percept,table):\n",
    "    #for key in table:\n",
    "    #    if key == percept:\n",
    "    #        return table[key]\n",
    "    return table[percept]\n",
    "\n",
    "# lets simulate the agent\n",
    "import random\n",
    "Location = random.choice(['A','B'])\n",
    "Condition = random.choice(['do_not_find_obstacle','find_obstacle'])\n",
    "\n",
    "while True: # to perceieve environment repeatedly\n",
    "    action = table_driven_agent((Location, Condition))\n",
    "    print('Action Performed: '+ action)\n",
    "    cmd = input('Get Perception (yes/no): ')\n",
    "    if(cmd == 'no' or cmd != 'yes'): break\n",
    "    if action == 'search_for_obstacle_again':\n",
    "        Location = 'B'\n",
    "        Condition = random.choice(['do_not_find_obstacle','find_obstacle'])\n",
    "    elif action == 'search_for_obstacle':\n",
    "        Location = 'A'\n",
    "        Condition = random.choice(['do_not_find_obstacle','find_obstacle'])\n",
    "    else:\n",
    "        Condition = 'do_not_find_obstacle'   "
   ]
  },
  {
   "cell_type": "markdown",
   "metadata": {},
   "source": [
    "# Simple reflex agent"
   ]
  },
  {
   "cell_type": "code",
   "execution_count": null,
   "metadata": {},
   "outputs": [
    {
     "name": "stdout",
     "output_type": "stream",
     "text": [
      "Perception Received: ('A', 'find_obstacle')\n",
      "Action Performed: auto_brake_activated\n",
      "Get Perception (yes/no): yes\n",
      "Perception Received: ('A', 'do_not_find_obstacle')\n",
      "Action Performed: search_for_obstacle\n",
      "Get Perception (yes/no): yes\n",
      "Perception Received: ('A', 'find_obstacle')\n",
      "Action Performed: auto_brake_activated\n"
     ]
    }
   ],
   "source": [
    "def simple_reflex_agent(percept):\n",
    "    print('Perception Received: '+ str(percept))\n",
    "    location = percept[0]\n",
    "    status = percept[1]\n",
    "    if status =='find_obstacle':\n",
    "        action = 'auto_brake_activated'\n",
    "    elif location == 'A':\n",
    "        action = 'search_for_obstacle'\n",
    "    elif location =='B':\n",
    "        action = 'search_for_obstacle_again'\n",
    "    return action\n",
    "\n",
    "import random\n",
    "Location = random.choice(['A','B'])\n",
    "Condition = random.choice(['do_not_find_obstacle','find_obstacle'])\n",
    "\n",
    "while True:\n",
    "    action= simple_reflex_agent((Location,Condition))\n",
    "    print('Action Performed: '+ action)\n",
    "    cmd = input('Get Perception (yes/no): ')\n",
    "    if(cmd == 'no' or cmd != 'yes'): break\n",
    "    if action == 'search_for_obstacle_again':\n",
    "        Location = 'B'\n",
    "        Condition = random.choice(['do_not_find_obstacle','find_obstacle'])\n",
    "    elif action== 'search_for_obstacle':\n",
    "        Location = 'A'\n",
    "        Condition = random.choice(['do_not_find_obstacle','find_obstacle'])\n",
    "    else:\n",
    "        Condition = 'do_not_find_obstacle'\n",
    "\n",
    "    "
   ]
  },
  {
   "cell_type": "markdown",
   "metadata": {},
   "source": [
    "# Model based agent"
   ]
  },
  {
   "cell_type": "code",
   "execution_count": null,
   "metadata": {},
   "outputs": [
    {
     "name": "stdout",
     "output_type": "stream",
     "text": [
      "*****\n",
      "Stopped. Do restart? (yes/no): yes\n",
      "*****\n",
      "Perception: ('A', 'find_obstacle')\n",
      "Action Performed: auto_brake_activated\n",
      "Model: {'A': 'do_not_find_obstacle', 'B': 'Unknown'}\n",
      "State: Bad\n",
      "*****\n",
      "Perception: ('A', 'do_not_find_obstacle')\n",
      "Action Performed: search_for_obstacle_again\n",
      "Model: {'A': 'do_not_find_obstacle', 'B': 'Unknown'}\n",
      "State: Bad\n",
      "*****\n",
      "Perception: ('B', 'find_obstacle')\n",
      "Action Performed: auto_brake_activated\n",
      "Model: {'A': 'do_not_find_obstacle', 'B': 'do_not_find_obstacle'}\n",
      "State: Good\n",
      "*****\n"
     ]
    }
   ],
   "source": [
    "model = {'A':'Unknown', 'B':'Unknown'}\n",
    "world_state = 'Good'\n",
    "action = 'Unknown'\n",
    "\n",
    "def update_state(action, percept, model):\n",
    "    location = percept[0]\n",
    "    status = percept[1]\n",
    "    model[location] = status #udate the model based on current perception\n",
    "    \n",
    "    global world_state\n",
    "    if action == 'auto_brake_activated':\n",
    "        model[location]='do_not_find_obstacle'\n",
    "    if model['A']=='do_not_find_obstacle' and model['B']=='do_not_find_obstacle': # model checking\n",
    "        world_state = 'Good'\n",
    "    else:\n",
    "        world_state = 'Bad'\n",
    "    return world_state\n",
    "        \n",
    "\n",
    "def model_based_reflex_agent(percept):\n",
    "    location = percept[0]\n",
    "    status = percept[1]\n",
    "    \n",
    "    global world_state,action,model\n",
    "    \n",
    "    if world_state == 'Good':\n",
    "        action = 'Pause'\n",
    "        return action\n",
    "    elif status == 'find_obstacle':\n",
    "        action = 'auto_brake_activated'\n",
    "    elif location == 'A':\n",
    "        action = 'search_for_obstacle_again'\n",
    "    elif location == 'B':\n",
    "        action = 'search_for_obstacle'\n",
    "    world_state = update_state(action, percept, model)\n",
    "    print('Perception: '+str(percept)) \n",
    "    print('Action Performed: '+ action)    \n",
    "    print('Model: '+str(model))   \n",
    "    print('State: '+str(world_state))    \n",
    "    return action\n",
    "\n",
    "\n",
    "import random\n",
    "Location = random.choice(['A','B'])\n",
    "Condition= random.choice(['do_not_find_obstacle','find_obstacle'])\n",
    "\n",
    "while True:\n",
    "    print('*****')\n",
    "    action = model_based_reflex_agent((Location,Condition))\n",
    "    if action == 'search_for_obstacle_again':\n",
    "        Location = 'B'\n",
    "        Condition = random.choice(['do_not_find_obstacle','find_obstacle'])\n",
    "    elif action == 'search_for_obstacle':\n",
    "        Location = 'A'\n",
    "        Condition = random.choice(['do_not_find_obstacle','find_obstacle'])\n",
    "    elif action == 'auto_brake_activated':\n",
    "        Condition = 'do_not_find_obstacle'\n",
    "    elif action == 'Pause':\n",
    "        cmd = input('Stopped. Do restart? (yes/no): ')\n",
    "        if(cmd == 'no' or cmd != 'yes'): break\n",
    "        Location = random.choice(['A','B'])\n",
    "        Condition = random.choice(['do_not_find_obstacle','find_obstacle'])\n",
    "        model = {'A':'Unknown', 'B':'Unknown'}\n",
    "        world_state = 'Bad'\n",
    "        action = 'Unknown'\n",
    "        "
   ]
  },
  {
   "cell_type": "markdown",
   "metadata": {},
   "source": [
    "## Task"
   ]
  },
  {
   "cell_type": "markdown",
   "metadata": {},
   "source": [
    "Implement diffierent types of agent implementation to do certain task of your choice. \n",
    "1. Table Driven Agent\n",
    "2. Simple Reflex Agent\n",
    "3. Model Based Agent"
   ]
  },
  {
   "cell_type": "markdown",
   "metadata": {},
   "source": [
    "PEAS desription\n",
    "\n",
    "Agent Description:\n",
    "The aim of the agent .....\n",
    "\n",
    "List the actions:\n",
    "List the sensors:\n",
    "Agent function: perception --> action"
   ]
  },
  {
   "cell_type": "code",
   "execution_count": null,
   "metadata": {},
   "outputs": [],
   "source": []
  }
 ],
 "metadata": {
  "kernelspec": {
   "display_name": "Python 3",
   "language": "python",
   "name": "python3"
  },
  "language_info": {
   "codemirror_mode": {
    "name": "ipython",
    "version": 3
   },
   "file_extension": ".py",
   "mimetype": "text/x-python",
   "name": "python",
   "nbconvert_exporter": "python",
   "pygments_lexer": "ipython3",
   "version": "3.8.8"
  }
 },
 "nbformat": 4,
 "nbformat_minor": 4
}
