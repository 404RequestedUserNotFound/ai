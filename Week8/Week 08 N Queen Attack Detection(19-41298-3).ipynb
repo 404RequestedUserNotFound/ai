{
 "cells": [
  {
   "cell_type": "markdown",
   "metadata": {},
   "source": [
    "# N Queen Attack Detection"
   ]
  },
  {
   "cell_type": "code",
   "execution_count": 1,
   "metadata": {},
   "outputs": [],
   "source": [
    "import random\n",
    "def generate_positions(N):\n",
    "    r = []\n",
    "    c = []\n",
    "    for i in range(1, N+1):    \n",
    "        r.append(random.choice(range(1, N+1)))\n",
    "        c.append(random.choice(range(1, N+1)))\n",
    "        #check repetition of position\n",
    "        print('Q{}: {},{}'.format(i,r[-1],c[-1]))\n",
    "    return r,c"
   ]
  },
  {
   "cell_type": "code",
   "execution_count": 2,
   "metadata": {},
   "outputs": [
    {
     "name": "stdout",
     "output_type": "stream",
     "text": [
      "Q1: 2,8\n",
      "Q2: 7,4\n",
      "Q3: 8,2\n",
      "Q4: 7,3\n",
      "Q5: 2,5\n",
      "Q6: 5,2\n",
      "Q7: 8,7\n",
      "Q8: 2,8\n"
     ]
    }
   ],
   "source": [
    "row, col = generate_positions(8)\n",
    "N=8"
   ]
  },
  {
   "cell_type": "code",
   "execution_count": 3,
   "metadata": {},
   "outputs": [],
   "source": [
    "#row attack \n",
    "def methode_of_row_attack(row):\n",
    "    Return_Row=0\n",
    "    for i in range(0,N):\n",
    "        for j in range(i+1,N):\n",
    "            if(row[i] == row[j]):\n",
    "                print('Row Attack: Row:{} Column:{} and {}'.format(row[i],col[i],col[j]))\n",
    "    return Return_Row"
   ]
  },
  {
   "cell_type": "code",
   "execution_count": 4,
   "metadata": {},
   "outputs": [
    {
     "name": "stdout",
     "output_type": "stream",
     "text": [
      "Row Attack: Row:2 Column:8 and 5\n",
      "Row Attack: Row:2 Column:8 and 8\n",
      "Row Attack: Row:7 Column:4 and 3\n",
      "Row Attack: Row:8 Column:2 and 7\n",
      "Row Attack: Row:2 Column:5 and 8\n"
     ]
    },
    {
     "data": {
      "text/plain": [
       "0"
      ]
     },
     "execution_count": 4,
     "metadata": {},
     "output_type": "execute_result"
    }
   ],
   "source": [
    "methode_of_row_attack(row)"
   ]
  },
  {
   "cell_type": "code",
   "execution_count": 5,
   "metadata": {},
   "outputs": [],
   "source": [
    "#column attack         \n",
    "def methode_of_column_attack(col):\n",
    "    Return_Column=0\n",
    "    for i in range(0,N):\n",
    "        for j in range(i+1,N):\n",
    "            if(col[i] == col[j]):\n",
    "                print('Column Attack: Column:{} Row:{} and {}'.format(col[i],row[i],row[j]))\n",
    "                \n",
    "    return Return_Column             "
   ]
  },
  {
   "cell_type": "code",
   "execution_count": 6,
   "metadata": {},
   "outputs": [
    {
     "name": "stdout",
     "output_type": "stream",
     "text": [
      "Column Attack: Column:8 Row:2 and 2\n",
      "Column Attack: Column:2 Row:8 and 5\n"
     ]
    },
    {
     "data": {
      "text/plain": [
       "0"
      ]
     },
     "execution_count": 6,
     "metadata": {},
     "output_type": "execute_result"
    }
   ],
   "source": [
    "methode_of_column_attack(col)"
   ]
  },
  {
   "cell_type": "code",
   "execution_count": 7,
   "metadata": {},
   "outputs": [],
   "source": [
    "#diagonal attack\n",
    "def methode_of_diagonal_attack(row,col):\n",
    "    Return_Diagonal=0\n",
    "    for i in range(0,N):\n",
    "        for j in range(i+1,N):\n",
    "            if(abs(row[i]-row[j]) == abs(col[i]-col[j])):\n",
    "                print('Diagonally Attacked: Row:{},Col:{} and Row:{},Col:{}'.format(row[i],col[i],row[j],col[j]))\n",
    "\n",
    "    return Return_Diagonal"
   ]
  },
  {
   "cell_type": "code",
   "execution_count": 8,
   "metadata": {},
   "outputs": [
    {
     "name": "stdout",
     "output_type": "stream",
     "text": [
      "Diagonally Attacked: Row:2,Col:8 and Row:8,Col:2\n",
      "Diagonally Attacked: Row:2,Col:8 and Row:7,Col:3\n",
      "Diagonally Attacked: Row:2,Col:8 and Row:2,Col:8\n",
      "Diagonally Attacked: Row:7,Col:4 and Row:5,Col:2\n",
      "Diagonally Attacked: Row:8,Col:2 and Row:7,Col:3\n",
      "Diagonally Attacked: Row:8,Col:2 and Row:2,Col:8\n",
      "Diagonally Attacked: Row:7,Col:3 and Row:2,Col:8\n",
      "Diagonally Attacked: Row:2,Col:5 and Row:5,Col:2\n"
     ]
    },
    {
     "data": {
      "text/plain": [
       "0"
      ]
     },
     "execution_count": 8,
     "metadata": {},
     "output_type": "execute_result"
    }
   ],
   "source": [
    "methode_of_diagonal_attack(row,col)"
   ]
  },
  {
   "cell_type": "code",
   "execution_count": 9,
   "metadata": {},
   "outputs": [],
   "source": [
    "# implement a method to print a state is valid or not\n",
    "# input row and col (two lists)\n",
    "def methode_to_print_the_state_valid_or_not(row,col,N):\n",
    "    Return_Row = methode_of_row_attack(row)\n",
    "    print()\n",
    "    Return_Column = methode_of_column_attack(col)\n",
    "    print()\n",
    "    Return_Diagonal = methode_of_diagonal_attack(row,col)\n",
    "    print()\n",
    "    \n",
    "    if((Return_Row>1) and (Return_Column>1) and (Return_Diagonal>1)):\n",
    "        print(\"State: Valid\")\n",
    "        print()\n",
    "    else:\n",
    "        print(\"State: Not Valid\")\n"
   ]
  },
  {
   "cell_type": "code",
   "execution_count": 10,
   "metadata": {},
   "outputs": [
    {
     "name": "stdout",
     "output_type": "stream",
     "text": [
      "Row Attack: Row:2 Column:8 and 5\n",
      "Row Attack: Row:2 Column:8 and 8\n",
      "Row Attack: Row:7 Column:4 and 3\n",
      "Row Attack: Row:8 Column:2 and 7\n",
      "Row Attack: Row:2 Column:5 and 8\n",
      "\n",
      "Column Attack: Column:8 Row:2 and 2\n",
      "Column Attack: Column:2 Row:8 and 5\n",
      "\n",
      "Diagonally Attacked: Row:2,Col:8 and Row:8,Col:2\n",
      "Diagonally Attacked: Row:2,Col:8 and Row:7,Col:3\n",
      "Diagonally Attacked: Row:2,Col:8 and Row:2,Col:8\n",
      "Diagonally Attacked: Row:7,Col:4 and Row:5,Col:2\n",
      "Diagonally Attacked: Row:8,Col:2 and Row:7,Col:3\n",
      "Diagonally Attacked: Row:8,Col:2 and Row:2,Col:8\n",
      "Diagonally Attacked: Row:7,Col:3 and Row:2,Col:8\n",
      "Diagonally Attacked: Row:2,Col:5 and Row:5,Col:2\n",
      "\n",
      "State: Not Valid\n"
     ]
    }
   ],
   "source": [
    "methode_to_print_the_state_valid_or_not(row, col, N)        "
   ]
  },
  {
   "cell_type": "code",
   "execution_count": null,
   "metadata": {},
   "outputs": [],
   "source": []
  },
  {
   "cell_type": "code",
   "execution_count": null,
   "metadata": {},
   "outputs": [],
   "source": []
  },
  {
   "cell_type": "code",
   "execution_count": null,
   "metadata": {},
   "outputs": [],
   "source": []
  },
  {
   "cell_type": "code",
   "execution_count": null,
   "metadata": {},
   "outputs": [],
   "source": []
  },
  {
   "cell_type": "code",
   "execution_count": null,
   "metadata": {},
   "outputs": [],
   "source": []
  }
 ],
 "metadata": {
  "kernelspec": {
   "display_name": "Python 3",
   "language": "python",
   "name": "python3"
  },
  "language_info": {
   "codemirror_mode": {
    "name": "ipython",
    "version": 3
   },
   "file_extension": ".py",
   "mimetype": "text/x-python",
   "name": "python",
   "nbconvert_exporter": "python",
   "pygments_lexer": "ipython3",
   "version": "3.8.8"
  }
 },
 "nbformat": 4,
 "nbformat_minor": 4
}
